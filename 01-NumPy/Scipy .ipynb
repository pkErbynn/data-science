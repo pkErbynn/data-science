{
 "cells": [
  {
   "cell_type": "markdown",
   "metadata": {},
   "source": [
    "# SciPy Samples"
   ]
  },
  {
   "cell_type": "markdown",
   "metadata": {},
   "source": [
    "module installation"
   ]
  },
  {
   "cell_type": "code",
   "execution_count": 6,
   "metadata": {},
   "outputs": [
    {
     "name": "stdout",
     "output_type": "stream",
     "text": [
      "Looking in indexes: https://pypi.org/simple, https://www.piwheels.org/simple\n",
      "Collecting matplotlib\n",
      "\u001b[?25l  Downloading https://www.piwheels.org/simple/matplotlib/matplotlib-3.1.1-cp37-cp37m-linux_armv7l.whl (11.7MB)\n",
      "\u001b[K    100% |████████████████████████████████| 11.7MB 22kB/s eta 0:00:01  8% |██▋                             | 952kB 608kB/s eta 0:00:18    17% |█████▌                          | 2.0MB 732kB/s eta 0:00:14    26% |████████▌                       | 3.1MB 1.1MB/s eta 0:00:08    27% |████████▊                       | 3.2MB 1.1MB/s eta 0:00:08\n",
      "\u001b[?25hCollecting kiwisolver>=1.0.1 (from matplotlib)\n",
      "\u001b[?25l  Downloading https://www.piwheels.org/simple/kiwisolver/kiwisolver-1.1.0-cp37-cp37m-linux_armv7l.whl (1.4MB)\n",
      "\u001b[K    100% |████████████████████████████████| 1.4MB 72kB/s eta 0:00:01    22% |███████                         | 307kB 1.5MB/s eta 0:00:01    89% |████████████████████████████▊   | 1.2MB 1.4MB/s eta 0:00:01\n",
      "\u001b[?25hCollecting cycler>=0.10 (from matplotlib)\n",
      "  Downloading https://files.pythonhosted.org/packages/f7/d2/e07d3ebb2bd7af696440ce7e754c59dd546ffe1bbe732c8ab68b9c834e61/cycler-0.10.0-py2.py3-none-any.whl\n",
      "Requirement already satisfied: numpy>=1.11 in /usr/lib/python3/dist-packages (from matplotlib) (1.16.2)\n",
      "Collecting pyparsing!=2.0.4,!=2.1.2,!=2.1.6,>=2.0.1 (from matplotlib)\n",
      "\u001b[?25l  Downloading https://files.pythonhosted.org/packages/c0/0c/fc2e007d9a992d997f04a80125b0f183da7fb554f1de701bbb70a8e7d479/pyparsing-2.4.5-py2.py3-none-any.whl (67kB)\n",
      "\u001b[K    100% |████████████████████████████████| 71kB 236kB/s ta 0:00:01\n",
      "\u001b[?25hRequirement already satisfied: python-dateutil>=2.1 in /usr/lib/python3/dist-packages (from matplotlib) (2.7.3)\n",
      "Requirement already satisfied: setuptools in /usr/lib/python3/dist-packages (from kiwisolver>=1.0.1->matplotlib) (40.8.0)\n",
      "Requirement already satisfied: six in /usr/lib/python3/dist-packages (from cycler>=0.10->matplotlib) (1.12.0)\n",
      "Installing collected packages: kiwisolver, cycler, pyparsing, matplotlib\n",
      "Successfully installed cycler-0.10.0 kiwisolver-1.1.0 matplotlib-3.1.1 pyparsing-2.4.5\n"
     ]
    }
   ],
   "source": [
    "!pip3 install matplotlib"
   ]
  },
  {
   "cell_type": "code",
   "execution_count": 4,
   "metadata": {},
   "outputs": [
    {
     "name": "stdout",
     "output_type": "stream",
     "text": [
      "Reading package lists... Done\n",
      "Building dependency tree       \n",
      "Reading state information... Done\n",
      "Suggested packages:\n",
      "  python-scipy-doc\n",
      "The following NEW packages will be installed:\n",
      "  python3-scipy\n",
      "0 upgraded, 1 newly installed, 0 to remove and 0 not upgraded.\n",
      "Need to get 8,910 kB of archives.\n",
      "After this operation, 37.9 MB of additional disk space will be used.\n",
      "Get:1 http://mirrors.fe.up.pt/raspbian/raspbian buster/main armhf python3-scipy armhf 1.1.0-7 [8,910 kB]\n",
      "Fetched 8,910 kB in 14s (634 kB/s)                                             \n",
      "Selecting previously unselected package python3-scipy.\n",
      "(Reading database ... 105733 files and directories currently installed.)\n",
      "Preparing to unpack .../python3-scipy_1.1.0-7_armhf.deb ...\n",
      "Unpacking python3-scipy (1.1.0-7) ...\n",
      "Setting up python3-scipy (1.1.0-7) ...\n"
     ]
    }
   ],
   "source": [
    "!sudo apt-get install python3-scipy"
   ]
  },
  {
   "cell_type": "markdown",
   "metadata": {},
   "source": [
    "library import "
   ]
  },
  {
   "cell_type": "code",
   "execution_count": 8,
   "metadata": {},
   "outputs": [],
   "source": [
    "import numpy as np\n",
    "from scipy import stats"
   ]
  },
  {
   "cell_type": "markdown",
   "metadata": {},
   "source": [
    "sample implementation "
   ]
  },
  {
   "cell_type": "code",
   "execution_count": 10,
   "metadata": {},
   "outputs": [],
   "source": [
    "samples = np.random.normal(size=1000)"
   ]
  }
 ],
 "metadata": {
  "kernelspec": {
   "display_name": "Python 3",
   "language": "python",
   "name": "python3"
  },
  "language_info": {
   "codemirror_mode": {
    "name": "ipython",
    "version": 3
   },
   "file_extension": ".py",
   "mimetype": "text/x-python",
   "name": "python",
   "nbconvert_exporter": "python",
   "pygments_lexer": "ipython3",
   "version": "3.7.3"
  }
 },
 "nbformat": 4,
 "nbformat_minor": 2
}
